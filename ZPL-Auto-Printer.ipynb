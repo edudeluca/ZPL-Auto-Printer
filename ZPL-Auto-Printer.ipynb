{
 "cells": [
  {
   "cell_type": "code",
   "execution_count": 13,
   "metadata": {},
   "outputs": [],
   "source": [
    "import os, json\n",
    "import zipfile\n",
    "import time"
   ]
  },
  {
   "cell_type": "code",
   "execution_count": 14,
   "metadata": {},
   "outputs": [],
   "source": [
    "class Printer:\n",
    "    params_file_name = 'params.json'\n",
    "    \n",
    "    def __init__(self):\n",
    "        pass\n",
    "\n",
    "    def set_params_file(self):\n",
    "        if not os.path.exists(self.params_file_name):\n",
    "            print('Criando arquivo de parâmetros\\n')\n",
    "        \n",
    "            with open(self.params_file_name, 'w') as file:\n",
    "                json.dump({'printer_ip':''}, file)\n",
    "            \n",
    "            print('Arquivo criado, preencha a porta da impressora na rede local e então pressione ENTER para prosseguir')\n",
    "            input()\n",
    "\n",
    "    @property\n",
    "    def printer_port(self):\n",
    "        return self.get_printer_port\n",
    "\n",
    "    @printer_port.getter\n",
    "    def get_printer_port(self):\n",
    "        with open(self.params_file_name,'r') as file:\n",
    "            json_dict = json.load(file)\n",
    "        \n",
    "        printerPort = json_dict['printer_ip']\n",
    "        return printerPort\n",
    "\n",
    "    # FIXME ativar impressão\n",
    "    def print_file(self, file_path):\n",
    "        print_command = f'copy \"{file_path}\" {self.get_printer_port}'\n",
    "        print(print_command)"
   ]
  },
  {
   "cell_type": "code",
   "execution_count": 15,
   "metadata": {},
   "outputs": [],
   "source": [
    "# sets printer to be used\n",
    "printer = Printer()\n",
    "printer.set_params_file()\n",
    "\n",
    "printerPort = printer.printer_port\n",
    "cwd = os.getcwd()\n",
    "\n",
    "# create labels folder\n",
    "labels_folder_name = 'Etiquetas'\n",
    "os.makedirs(labels_folder_name, exist_ok=True)\n",
    "\n",
    "labels_folder_path = os.path.join(cwd, labels_folder_name)"
   ]
  },
  {
   "cell_type": "code",
   "execution_count": 16,
   "metadata": {},
   "outputs": [],
   "source": [
    "def filter_by_file_type(file_list, extension):\n",
    "    extension = '.' + extension \n",
    "    file_type_verifier = lambda x: os.path.splitext(x)[1] == extension\n",
    "    filtered_list = list(filter(file_type_verifier, file_list))\n",
    "    return filtered_list\n",
    "\n",
    "\n",
    "def prints_file_on_labels_folder(file):\n",
    "    \"\"\"Get the full path to a file and send a command to the printer, then deletes it.\"\"\"\n",
    "    file_path = os.path.join(labels_folder_path, file)\n",
    "    Printer().print_file(file_path)\n",
    "    \n",
    "    # FIXME activate del\n",
    "    # os.remove(file_path)"
   ]
  },
  {
   "cell_type": "code",
   "execution_count": 19,
   "metadata": {},
   "outputs": [],
   "source": [
    "loop = True\n",
    "\n",
    "while loop:\n",
    "    time.sleep(1)\n",
    "    \n",
    "    pendingJobsFiles = os.listdir(labels_folder_name)\n",
    "    txt_files_list = filter_by_file_type(pendingJobsFiles, 'txt')\n",
    "    zip_files_list = filter_by_file_type(pendingJobsFiles, 'zip')\n",
    "\n",
    "    # executes only if there are txt files in the folder, else it's an empty list\n",
    "    map(prints_file_on_labels_folder, txt_files_list)\n",
    "\n",
    "    # executes only once for each loop\n",
    "    if zip_files_list:\n",
    "        file_path = os.path.join(labels_folder_path, zip_files_list[0])\n",
    "\n",
    "        with zipfile.ZipFile(file_path,'r') as zip_ref:\n",
    "            zip_ref.extractall(labels_folder_name)\n",
    "        \n",
    "        os.remove(file_path)\n",
    "\n",
    "        continue\n",
    "         \n",
    "    loop = False"
   ]
  },
  {
   "cell_type": "code",
   "execution_count": null,
   "metadata": {},
   "outputs": [],
   "source": []
  }
 ],
 "metadata": {
  "kernelspec": {
   "display_name": "base",
   "language": "python",
   "name": "python3"
  },
  "language_info": {
   "codemirror_mode": {
    "name": "ipython",
    "version": 3
   },
   "file_extension": ".py",
   "mimetype": "text/x-python",
   "name": "python",
   "nbconvert_exporter": "python",
   "pygments_lexer": "ipython3",
   "version": "3.10.11"
  }
 },
 "nbformat": 4,
 "nbformat_minor": 2
}
