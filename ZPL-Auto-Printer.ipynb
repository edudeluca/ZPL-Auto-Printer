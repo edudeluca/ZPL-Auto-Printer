{
 "cells": [
  {
   "cell_type": "code",
   "execution_count": 4,
   "metadata": {},
   "outputs": [],
   "source": [
    "import os, json\n",
    "import zipfile\n",
    "import time"
   ]
  },
  {
   "cell_type": "code",
   "execution_count": 6,
   "metadata": {},
   "outputs": [
    {
     "name": "stdout",
     "output_type": "stream",
     "text": [
      "Criando arquivos de parâmetros\n"
     ]
    }
   ],
   "source": [
    "# sets printer to be used\n",
    "if not os.path.exists('params.json'):\n",
    "    print('Criando arquivos de parâmetros')\n",
    "    with open('params.json', 'w') as file:\n",
    "        json.dump({'printer_ip':''}, file)\n"
   ]
  },
  {
   "cell_type": "code",
   "execution_count": null,
   "metadata": {},
   "outputs": [],
   "source": [
    "\n",
    "printerPort = r'\\\\192.168.0.26\\zebraPrinter'\n",
    "\n",
    "# gets python file path and the path to the files to be printed\n",
    "pythonFolder = r'c:\\Dropbox\\Karmapec\\automating printing' #os.path.dirname(__file__)\n",
    "\n",
    "printingFolderName = 'Etiquetas'\n",
    "printingJobsFolder = os.path.join(pythonFolder,printingFolderName)\n",
    "\n",
    "# creates folder to store pending jobs\n",
    "try:\n",
    "    os.makedirs(printingJobsFolder)\n",
    "except FileExistsError:\n",
    "    None"
   ]
  },
  {
   "cell_type": "code",
   "execution_count": 3,
   "metadata": {},
   "outputs": [
    {
     "name": "stdout",
     "output_type": "stream",
     "text": [
      "printed:  Etiqueta de envio.txt\n",
      "unziped:  Etiqueta MercadoEnvios-202403221622.zip\n",
      "printed:  Etiqueta de envio.txt\n"
     ]
    }
   ],
   "source": [
    "while True:\n",
    "    pendingJobsFiles = os.listdir(printingJobsFolder)\n",
    "    if '.txt' in [os.path.splitext(file)[1] for file in pendingJobsFiles]: \n",
    "        for file in pendingJobsFiles:\n",
    "            fileExtension = os.path.splitext(file)[1]\n",
    "            filePath = os.path.join(printingJobsFolder,file)\n",
    "            # print(filePath)\n",
    "\n",
    "            if fileExtension == '.txt':\n",
    "                printCommand = f'copy \"{filePath}\" {printerPort}'\n",
    "                print('printed: ', file)\n",
    "                # os.system(printCommand)\n",
    "                os.remove(filePath)\n",
    "                \n",
    "            \n",
    "    else:\n",
    "        if '.zip' in [os.path.splitext(file)[1] for file in pendingJobsFiles]:\n",
    "            for file in pendingJobsFiles:\n",
    "                fileExtension = os.path.splitext(file)[1]\n",
    "                filePath = os.path.join(printingJobsFolder, file)\n",
    "                \n",
    "                if fileExtension == '.zip':\n",
    "                    with zipfile.ZipFile(filePath,'r') as zip_ref:\n",
    "                        zip_ref.extractall(printingJobsFolder)\n",
    "                    print('unziped: ', file)\n",
    "                    os.remove(filePath)\n",
    "                    break\n",
    "    \n",
    "    time.sleep(1)\n"
   ]
  }
 ],
 "metadata": {
  "kernelspec": {
   "display_name": "base",
   "language": "python",
   "name": "python3"
  },
  "language_info": {
   "codemirror_mode": {
    "name": "ipython",
    "version": 3
   },
   "file_extension": ".py",
   "mimetype": "text/x-python",
   "name": "python",
   "nbconvert_exporter": "python",
   "pygments_lexer": "ipython3",
   "version": "3.10.11"
  }
 },
 "nbformat": 4,
 "nbformat_minor": 2
}
